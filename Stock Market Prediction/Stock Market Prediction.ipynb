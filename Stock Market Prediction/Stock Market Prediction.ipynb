{
 "cells": [
  {
   "cell_type": "markdown",
   "metadata": {},
   "source": [
    "## Code Clause Internship"
   ]
  },
  {
   "cell_type": "code",
   "execution_count": 1,
   "metadata": {
    "id": "eiF7W8i6gEFu"
   },
   "outputs": [],
   "source": [
    "import numpy as np\n",
    "import pandas as pd\n",
    "import datetime\n",
    "import math\n",
    "import matplotlib.pyplot as plt\n",
    "import seaborn as sns\n",
    "from sklearn.preprocessing import MinMaxScaler\n",
    "from tensorflow.keras.models import Sequential\n",
    "from tensorflow.keras.layers import Dense , LSTM\n",
    "from sklearn.metrics import mean_squared_error"
   ]
  },
  {
   "cell_type": "code",
   "execution_count": 2,
   "metadata": {
    "id": "3ir6yd9Vi5Kc"
   },
   "outputs": [],
   "source": [
    "Dataset_link=(\"E:\\Stocks_Dataset.csv\")"
   ]
  },
  {
   "cell_type": "code",
   "execution_count": 3,
   "metadata": {
    "colab": {
     "base_uri": "https://localhost:8080/",
     "height": 363
    },
    "id": "HOTRwzmqi_4P",
    "outputId": "2e4e34b6-c576-4809-d415-eba6c1e88747"
   },
   "outputs": [
    {
     "data": {
      "text/html": [
       "<div>\n",
       "<style scoped>\n",
       "    .dataframe tbody tr th:only-of-type {\n",
       "        vertical-align: middle;\n",
       "    }\n",
       "\n",
       "    .dataframe tbody tr th {\n",
       "        vertical-align: top;\n",
       "    }\n",
       "\n",
       "    .dataframe thead th {\n",
       "        text-align: right;\n",
       "    }\n",
       "</style>\n",
       "<table border=\"1\" class=\"dataframe\">\n",
       "  <thead>\n",
       "    <tr style=\"text-align: right;\">\n",
       "      <th></th>\n",
       "      <th>Date</th>\n",
       "      <th>Open</th>\n",
       "      <th>High</th>\n",
       "      <th>Low</th>\n",
       "      <th>Last</th>\n",
       "      <th>Close</th>\n",
       "      <th>Total Trade Quantity</th>\n",
       "      <th>Turnover (Lacs)</th>\n",
       "    </tr>\n",
       "  </thead>\n",
       "  <tbody>\n",
       "    <tr>\n",
       "      <th>0</th>\n",
       "      <td>2018-09-28</td>\n",
       "      <td>234.05</td>\n",
       "      <td>235.95</td>\n",
       "      <td>230.20</td>\n",
       "      <td>233.50</td>\n",
       "      <td>233.75</td>\n",
       "      <td>3069914</td>\n",
       "      <td>7162.35</td>\n",
       "    </tr>\n",
       "    <tr>\n",
       "      <th>1</th>\n",
       "      <td>2018-09-27</td>\n",
       "      <td>234.55</td>\n",
       "      <td>236.80</td>\n",
       "      <td>231.10</td>\n",
       "      <td>233.80</td>\n",
       "      <td>233.25</td>\n",
       "      <td>5082859</td>\n",
       "      <td>11859.95</td>\n",
       "    </tr>\n",
       "    <tr>\n",
       "      <th>2</th>\n",
       "      <td>2018-09-26</td>\n",
       "      <td>240.00</td>\n",
       "      <td>240.00</td>\n",
       "      <td>232.50</td>\n",
       "      <td>235.00</td>\n",
       "      <td>234.25</td>\n",
       "      <td>2240909</td>\n",
       "      <td>5248.60</td>\n",
       "    </tr>\n",
       "    <tr>\n",
       "      <th>3</th>\n",
       "      <td>2018-09-25</td>\n",
       "      <td>233.30</td>\n",
       "      <td>236.75</td>\n",
       "      <td>232.00</td>\n",
       "      <td>236.25</td>\n",
       "      <td>236.10</td>\n",
       "      <td>2349368</td>\n",
       "      <td>5503.90</td>\n",
       "    </tr>\n",
       "    <tr>\n",
       "      <th>4</th>\n",
       "      <td>2018-09-24</td>\n",
       "      <td>233.55</td>\n",
       "      <td>239.20</td>\n",
       "      <td>230.75</td>\n",
       "      <td>234.00</td>\n",
       "      <td>233.30</td>\n",
       "      <td>3423509</td>\n",
       "      <td>7999.55</td>\n",
       "    </tr>\n",
       "    <tr>\n",
       "      <th>5</th>\n",
       "      <td>2018-09-21</td>\n",
       "      <td>235.00</td>\n",
       "      <td>237.00</td>\n",
       "      <td>227.95</td>\n",
       "      <td>233.75</td>\n",
       "      <td>234.60</td>\n",
       "      <td>5395319</td>\n",
       "      <td>12589.59</td>\n",
       "    </tr>\n",
       "    <tr>\n",
       "      <th>6</th>\n",
       "      <td>2018-09-19</td>\n",
       "      <td>235.95</td>\n",
       "      <td>237.20</td>\n",
       "      <td>233.45</td>\n",
       "      <td>234.60</td>\n",
       "      <td>234.90</td>\n",
       "      <td>1362058</td>\n",
       "      <td>3202.78</td>\n",
       "    </tr>\n",
       "    <tr>\n",
       "      <th>7</th>\n",
       "      <td>2018-09-18</td>\n",
       "      <td>237.90</td>\n",
       "      <td>239.25</td>\n",
       "      <td>233.50</td>\n",
       "      <td>235.50</td>\n",
       "      <td>235.05</td>\n",
       "      <td>2614794</td>\n",
       "      <td>6163.70</td>\n",
       "    </tr>\n",
       "    <tr>\n",
       "      <th>8</th>\n",
       "      <td>2018-09-17</td>\n",
       "      <td>233.15</td>\n",
       "      <td>238.00</td>\n",
       "      <td>230.25</td>\n",
       "      <td>236.40</td>\n",
       "      <td>236.60</td>\n",
       "      <td>3170894</td>\n",
       "      <td>7445.41</td>\n",
       "    </tr>\n",
       "    <tr>\n",
       "      <th>9</th>\n",
       "      <td>2018-09-14</td>\n",
       "      <td>223.45</td>\n",
       "      <td>236.70</td>\n",
       "      <td>223.30</td>\n",
       "      <td>234.00</td>\n",
       "      <td>233.95</td>\n",
       "      <td>6377909</td>\n",
       "      <td>14784.50</td>\n",
       "    </tr>\n",
       "  </tbody>\n",
       "</table>\n",
       "</div>"
      ],
      "text/plain": [
       "         Date    Open    High     Low    Last   Close  Total Trade Quantity  \\\n",
       "0  2018-09-28  234.05  235.95  230.20  233.50  233.75               3069914   \n",
       "1  2018-09-27  234.55  236.80  231.10  233.80  233.25               5082859   \n",
       "2  2018-09-26  240.00  240.00  232.50  235.00  234.25               2240909   \n",
       "3  2018-09-25  233.30  236.75  232.00  236.25  236.10               2349368   \n",
       "4  2018-09-24  233.55  239.20  230.75  234.00  233.30               3423509   \n",
       "5  2018-09-21  235.00  237.00  227.95  233.75  234.60               5395319   \n",
       "6  2018-09-19  235.95  237.20  233.45  234.60  234.90               1362058   \n",
       "7  2018-09-18  237.90  239.25  233.50  235.50  235.05               2614794   \n",
       "8  2018-09-17  233.15  238.00  230.25  236.40  236.60               3170894   \n",
       "9  2018-09-14  223.45  236.70  223.30  234.00  233.95               6377909   \n",
       "\n",
       "   Turnover (Lacs)  \n",
       "0          7162.35  \n",
       "1         11859.95  \n",
       "2          5248.60  \n",
       "3          5503.90  \n",
       "4          7999.55  \n",
       "5         12589.59  \n",
       "6          3202.78  \n",
       "7          6163.70  \n",
       "8          7445.41  \n",
       "9         14784.50  "
      ]
     },
     "execution_count": 3,
     "metadata": {},
     "output_type": "execute_result"
    }
   ],
   "source": [
    "df= pd.read_csv(Dataset_link, parse_dates=True,)\n",
    "df.reset_index()\n",
    "df.head(10)\n"
   ]
  },
  {
   "cell_type": "code",
   "execution_count": 4,
   "metadata": {
    "colab": {
     "base_uri": "https://localhost:8080/",
     "height": 363
    },
    "id": "KmbaGWf4jCj4",
    "outputId": "066493d0-53f6-46b3-d74a-0185bc1aaae8"
   },
   "outputs": [
    {
     "data": {
      "text/html": [
       "<div>\n",
       "<style scoped>\n",
       "    .dataframe tbody tr th:only-of-type {\n",
       "        vertical-align: middle;\n",
       "    }\n",
       "\n",
       "    .dataframe tbody tr th {\n",
       "        vertical-align: top;\n",
       "    }\n",
       "\n",
       "    .dataframe thead th {\n",
       "        text-align: right;\n",
       "    }\n",
       "</style>\n",
       "<table border=\"1\" class=\"dataframe\">\n",
       "  <thead>\n",
       "    <tr style=\"text-align: right;\">\n",
       "      <th></th>\n",
       "      <th>Date</th>\n",
       "      <th>Open</th>\n",
       "      <th>High</th>\n",
       "      <th>Low</th>\n",
       "      <th>Last</th>\n",
       "      <th>Close</th>\n",
       "      <th>Total Trade Quantity</th>\n",
       "      <th>Turnover (Lacs)</th>\n",
       "    </tr>\n",
       "  </thead>\n",
       "  <tbody>\n",
       "    <tr>\n",
       "      <th>1628</th>\n",
       "      <td>2012-03-03</td>\n",
       "      <td>120.70</td>\n",
       "      <td>121.50</td>\n",
       "      <td>117.90</td>\n",
       "      <td>120.60</td>\n",
       "      <td>120.40</td>\n",
       "      <td>249882</td>\n",
       "      <td>300.14</td>\n",
       "    </tr>\n",
       "    <tr>\n",
       "      <th>657</th>\n",
       "      <td>2016-02-03</td>\n",
       "      <td>123.05</td>\n",
       "      <td>124.80</td>\n",
       "      <td>121.00</td>\n",
       "      <td>121.65</td>\n",
       "      <td>121.75</td>\n",
       "      <td>877186</td>\n",
       "      <td>1080.52</td>\n",
       "    </tr>\n",
       "    <tr>\n",
       "      <th>1364</th>\n",
       "      <td>2013-03-21</td>\n",
       "      <td>128.55</td>\n",
       "      <td>128.60</td>\n",
       "      <td>123.45</td>\n",
       "      <td>123.80</td>\n",
       "      <td>124.60</td>\n",
       "      <td>2807473</td>\n",
       "      <td>3541.91</td>\n",
       "    </tr>\n",
       "    <tr>\n",
       "      <th>1761</th>\n",
       "      <td>2011-08-19</td>\n",
       "      <td>86.05</td>\n",
       "      <td>88.90</td>\n",
       "      <td>85.65</td>\n",
       "      <td>87.85</td>\n",
       "      <td>87.60</td>\n",
       "      <td>2292742</td>\n",
       "      <td>2005.83</td>\n",
       "    </tr>\n",
       "    <tr>\n",
       "      <th>139</th>\n",
       "      <td>2018-03-08</td>\n",
       "      <td>270.50</td>\n",
       "      <td>274.20</td>\n",
       "      <td>265.00</td>\n",
       "      <td>273.15</td>\n",
       "      <td>273.40</td>\n",
       "      <td>2246589</td>\n",
       "      <td>6068.80</td>\n",
       "    </tr>\n",
       "    <tr>\n",
       "      <th>1793</th>\n",
       "      <td>2011-07-05</td>\n",
       "      <td>105.70</td>\n",
       "      <td>107.65</td>\n",
       "      <td>102.30</td>\n",
       "      <td>103.25</td>\n",
       "      <td>103.00</td>\n",
       "      <td>3742291</td>\n",
       "      <td>3930.51</td>\n",
       "    </tr>\n",
       "    <tr>\n",
       "      <th>1866</th>\n",
       "      <td>2011-03-21</td>\n",
       "      <td>98.70</td>\n",
       "      <td>99.90</td>\n",
       "      <td>97.50</td>\n",
       "      <td>98.35</td>\n",
       "      <td>98.25</td>\n",
       "      <td>1512956</td>\n",
       "      <td>1492.81</td>\n",
       "    </tr>\n",
       "    <tr>\n",
       "      <th>764</th>\n",
       "      <td>2015-08-26</td>\n",
       "      <td>117.95</td>\n",
       "      <td>119.80</td>\n",
       "      <td>115.15</td>\n",
       "      <td>116.70</td>\n",
       "      <td>117.30</td>\n",
       "      <td>1404188</td>\n",
       "      <td>1656.95</td>\n",
       "    </tr>\n",
       "    <tr>\n",
       "      <th>1252</th>\n",
       "      <td>2013-09-03</td>\n",
       "      <td>144.10</td>\n",
       "      <td>145.20</td>\n",
       "      <td>140.70</td>\n",
       "      <td>141.80</td>\n",
       "      <td>141.55</td>\n",
       "      <td>1615075</td>\n",
       "      <td>2313.84</td>\n",
       "    </tr>\n",
       "    <tr>\n",
       "      <th>1786</th>\n",
       "      <td>2011-07-14</td>\n",
       "      <td>100.50</td>\n",
       "      <td>103.95</td>\n",
       "      <td>100.05</td>\n",
       "      <td>102.40</td>\n",
       "      <td>102.55</td>\n",
       "      <td>788661</td>\n",
       "      <td>811.17</td>\n",
       "    </tr>\n",
       "  </tbody>\n",
       "</table>\n",
       "</div>"
      ],
      "text/plain": [
       "            Date    Open    High     Low    Last   Close  \\\n",
       "1628  2012-03-03  120.70  121.50  117.90  120.60  120.40   \n",
       "657   2016-02-03  123.05  124.80  121.00  121.65  121.75   \n",
       "1364  2013-03-21  128.55  128.60  123.45  123.80  124.60   \n",
       "1761  2011-08-19   86.05   88.90   85.65   87.85   87.60   \n",
       "139   2018-03-08  270.50  274.20  265.00  273.15  273.40   \n",
       "1793  2011-07-05  105.70  107.65  102.30  103.25  103.00   \n",
       "1866  2011-03-21   98.70   99.90   97.50   98.35   98.25   \n",
       "764   2015-08-26  117.95  119.80  115.15  116.70  117.30   \n",
       "1252  2013-09-03  144.10  145.20  140.70  141.80  141.55   \n",
       "1786  2011-07-14  100.50  103.95  100.05  102.40  102.55   \n",
       "\n",
       "      Total Trade Quantity  Turnover (Lacs)  \n",
       "1628                249882           300.14  \n",
       "657                 877186          1080.52  \n",
       "1364               2807473          3541.91  \n",
       "1761               2292742          2005.83  \n",
       "139                2246589          6068.80  \n",
       "1793               3742291          3930.51  \n",
       "1866               1512956          1492.81  \n",
       "764                1404188          1656.95  \n",
       "1252               1615075          2313.84  \n",
       "1786                788661           811.17  "
      ]
     },
     "execution_count": 4,
     "metadata": {},
     "output_type": "execute_result"
    }
   ],
   "source": [
    "df.sample(10)"
   ]
  },
  {
   "cell_type": "code",
   "execution_count": 5,
   "metadata": {
    "colab": {
     "base_uri": "https://localhost:8080/"
    },
    "id": "x2SyFM-ljErl",
    "outputId": "e4c4e5e7-864d-4ca1-ee96-9cbc52a773e4"
   },
   "outputs": [
    {
     "data": {
      "text/plain": [
       "Index(['Date', 'Open', 'High', 'Low', 'Last', 'Close', 'Total Trade Quantity',\n",
       "       'Turnover (Lacs)'],\n",
       "      dtype='object')"
      ]
     },
     "execution_count": 5,
     "metadata": {},
     "output_type": "execute_result"
    }
   ],
   "source": [
    "df.columns"
   ]
  },
  {
   "cell_type": "code",
   "execution_count": 6,
   "metadata": {
    "colab": {
     "base_uri": "https://localhost:8080/"
    },
    "id": "10l8ZJR2jGdu",
    "outputId": "7e375dea-203e-4b36-b3a6-27cb72f72b4a"
   },
   "outputs": [
    {
     "data": {
      "text/plain": [
       "(2035, 8)"
      ]
     },
     "execution_count": 6,
     "metadata": {},
     "output_type": "execute_result"
    }
   ],
   "source": [
    "df.shape"
   ]
  },
  {
   "cell_type": "code",
   "execution_count": 7,
   "metadata": {
    "colab": {
     "base_uri": "https://localhost:8080/"
    },
    "id": "s7t4wLOxjIad",
    "outputId": "7d8d1938-9eca-41ff-aec3-138355a624c6"
   },
   "outputs": [
    {
     "name": "stdout",
     "output_type": "stream",
     "text": [
      "<class 'pandas.core.frame.DataFrame'>\n",
      "RangeIndex: 2035 entries, 0 to 2034\n",
      "Data columns (total 8 columns):\n",
      " #   Column                Non-Null Count  Dtype  \n",
      "---  ------                --------------  -----  \n",
      " 0   Date                  2035 non-null   object \n",
      " 1   Open                  2035 non-null   float64\n",
      " 2   High                  2035 non-null   float64\n",
      " 3   Low                   2035 non-null   float64\n",
      " 4   Last                  2035 non-null   float64\n",
      " 5   Close                 2035 non-null   float64\n",
      " 6   Total Trade Quantity  2035 non-null   int64  \n",
      " 7   Turnover (Lacs)       2035 non-null   float64\n",
      "dtypes: float64(6), int64(1), object(1)\n",
      "memory usage: 127.3+ KB\n"
     ]
    }
   ],
   "source": [
    "df.info()"
   ]
  },
  {
   "cell_type": "code",
   "execution_count": 8,
   "metadata": {
    "colab": {
     "base_uri": "https://localhost:8080/"
    },
    "id": "v7cvph3XjLP2",
    "outputId": "04e7a15d-4bea-49cf-d480-188838115097"
   },
   "outputs": [
    {
     "data": {
      "text/plain": [
       "Date                    0\n",
       "Open                    0\n",
       "High                    0\n",
       "Low                     0\n",
       "Last                    0\n",
       "Close                   0\n",
       "Total Trade Quantity    0\n",
       "Turnover (Lacs)         0\n",
       "dtype: int64"
      ]
     },
     "execution_count": 8,
     "metadata": {},
     "output_type": "execute_result"
    }
   ],
   "source": [
    "df.isnull().sum()"
   ]
  },
  {
   "cell_type": "code",
   "execution_count": 9,
   "metadata": {
    "colab": {
     "base_uri": "https://localhost:8080/",
     "height": 300
    },
    "id": "zskvOfqMjNQW",
    "outputId": "7acbcbb3-f7bc-4448-894c-f0a02317b5a6"
   },
   "outputs": [
    {
     "data": {
      "text/html": [
       "<div>\n",
       "<style scoped>\n",
       "    .dataframe tbody tr th:only-of-type {\n",
       "        vertical-align: middle;\n",
       "    }\n",
       "\n",
       "    .dataframe tbody tr th {\n",
       "        vertical-align: top;\n",
       "    }\n",
       "\n",
       "    .dataframe thead th {\n",
       "        text-align: right;\n",
       "    }\n",
       "</style>\n",
       "<table border=\"1\" class=\"dataframe\">\n",
       "  <thead>\n",
       "    <tr style=\"text-align: right;\">\n",
       "      <th></th>\n",
       "      <th>Open</th>\n",
       "      <th>High</th>\n",
       "      <th>Low</th>\n",
       "      <th>Last</th>\n",
       "      <th>Close</th>\n",
       "      <th>Total Trade Quantity</th>\n",
       "      <th>Turnover (Lacs)</th>\n",
       "    </tr>\n",
       "  </thead>\n",
       "  <tbody>\n",
       "    <tr>\n",
       "      <th>count</th>\n",
       "      <td>2035.000000</td>\n",
       "      <td>2035.000000</td>\n",
       "      <td>2035.000000</td>\n",
       "      <td>2035.000000</td>\n",
       "      <td>2035.00000</td>\n",
       "      <td>2.035000e+03</td>\n",
       "      <td>2035.000000</td>\n",
       "    </tr>\n",
       "    <tr>\n",
       "      <th>mean</th>\n",
       "      <td>149.713735</td>\n",
       "      <td>151.992826</td>\n",
       "      <td>147.293931</td>\n",
       "      <td>149.474251</td>\n",
       "      <td>149.45027</td>\n",
       "      <td>2.335681e+06</td>\n",
       "      <td>3899.980565</td>\n",
       "    </tr>\n",
       "    <tr>\n",
       "      <th>std</th>\n",
       "      <td>48.664509</td>\n",
       "      <td>49.413109</td>\n",
       "      <td>47.931958</td>\n",
       "      <td>48.732570</td>\n",
       "      <td>48.71204</td>\n",
       "      <td>2.091778e+06</td>\n",
       "      <td>4570.767877</td>\n",
       "    </tr>\n",
       "    <tr>\n",
       "      <th>min</th>\n",
       "      <td>81.100000</td>\n",
       "      <td>82.800000</td>\n",
       "      <td>80.000000</td>\n",
       "      <td>81.000000</td>\n",
       "      <td>80.95000</td>\n",
       "      <td>3.961000e+04</td>\n",
       "      <td>37.040000</td>\n",
       "    </tr>\n",
       "    <tr>\n",
       "      <th>25%</th>\n",
       "      <td>120.025000</td>\n",
       "      <td>122.100000</td>\n",
       "      <td>118.300000</td>\n",
       "      <td>120.075000</td>\n",
       "      <td>120.05000</td>\n",
       "      <td>1.146444e+06</td>\n",
       "      <td>1427.460000</td>\n",
       "    </tr>\n",
       "    <tr>\n",
       "      <th>50%</th>\n",
       "      <td>141.500000</td>\n",
       "      <td>143.400000</td>\n",
       "      <td>139.600000</td>\n",
       "      <td>141.100000</td>\n",
       "      <td>141.25000</td>\n",
       "      <td>1.783456e+06</td>\n",
       "      <td>2512.030000</td>\n",
       "    </tr>\n",
       "    <tr>\n",
       "      <th>75%</th>\n",
       "      <td>157.175000</td>\n",
       "      <td>159.400000</td>\n",
       "      <td>155.150000</td>\n",
       "      <td>156.925000</td>\n",
       "      <td>156.90000</td>\n",
       "      <td>2.813594e+06</td>\n",
       "      <td>4539.015000</td>\n",
       "    </tr>\n",
       "    <tr>\n",
       "      <th>max</th>\n",
       "      <td>327.700000</td>\n",
       "      <td>328.750000</td>\n",
       "      <td>321.650000</td>\n",
       "      <td>325.950000</td>\n",
       "      <td>325.75000</td>\n",
       "      <td>2.919102e+07</td>\n",
       "      <td>55755.080000</td>\n",
       "    </tr>\n",
       "  </tbody>\n",
       "</table>\n",
       "</div>"
      ],
      "text/plain": [
       "              Open         High          Low         Last       Close  \\\n",
       "count  2035.000000  2035.000000  2035.000000  2035.000000  2035.00000   \n",
       "mean    149.713735   151.992826   147.293931   149.474251   149.45027   \n",
       "std      48.664509    49.413109    47.931958    48.732570    48.71204   \n",
       "min      81.100000    82.800000    80.000000    81.000000    80.95000   \n",
       "25%     120.025000   122.100000   118.300000   120.075000   120.05000   \n",
       "50%     141.500000   143.400000   139.600000   141.100000   141.25000   \n",
       "75%     157.175000   159.400000   155.150000   156.925000   156.90000   \n",
       "max     327.700000   328.750000   321.650000   325.950000   325.75000   \n",
       "\n",
       "       Total Trade Quantity  Turnover (Lacs)  \n",
       "count          2.035000e+03      2035.000000  \n",
       "mean           2.335681e+06      3899.980565  \n",
       "std            2.091778e+06      4570.767877  \n",
       "min            3.961000e+04        37.040000  \n",
       "25%            1.146444e+06      1427.460000  \n",
       "50%            1.783456e+06      2512.030000  \n",
       "75%            2.813594e+06      4539.015000  \n",
       "max            2.919102e+07     55755.080000  "
      ]
     },
     "execution_count": 9,
     "metadata": {},
     "output_type": "execute_result"
    }
   ],
   "source": [
    "df.describe()\n"
   ]
  },
  {
   "cell_type": "code",
   "execution_count": 10,
   "metadata": {
    "colab": {
     "base_uri": "https://localhost:8080/",
     "height": 451
    },
    "id": "BAGXbgvOjRIm",
    "outputId": "0a6cc8b9-4504-4028-aa6c-3eab969b0be8"
   },
   "outputs": [
    {
     "data": {
      "image/png": "[encoded data removed]",
      "text/plain": [
       "<Figure size 1152x504 with 1 Axes>"
      ]
     },
     "metadata": {
      "needs_background": "light"
     },
     "output_type": "display_data"
    }
   ],
   "source": [
    "plt.figure(figsize=(10,6))\n",
    "df['Close'].plot(kind='line',figsize=(16,7),color='r',label=\"Closing Price\")\n",
    "\n",
    "plt.ylabel(\"Price\")\n",
    "plt.legend(loc=\"upper right\")\n",
    "plt.title(\"Change in closing price over the years\")\n",
    "plt.grid()"
   ]
  },
  {
   "cell_type": "code",
   "execution_count": 11,
   "metadata": {
    "colab": {
     "base_uri": "https://localhost:8080/",
     "height": 451
    },
    "id": "4NlCUlKcjS1P",
    "outputId": "d955af3b-105d-4d7e-801d-1c42435847ba"
   },
   "outputs": [
    {
     "data": {
      "image/png": "[encoded data removed]",
      "text/plain": [
       "<Figure size 1152x504 with 1 Axes>"
      ]
     },
     "metadata": {
      "needs_background": "light"
     },
     "output_type": "display_data"
    }
   ],
   "source": [
    "plt.figure(figsize=(10,6))\n",
    "df['Open'].plot(kind='line',figsize=(16,7),color='y',label=\"Opening Price\")\n",
    "\n",
    "plt.ylabel(\"Price\")\n",
    "plt.legend(loc=\"upper left\")\n",
    "plt.title(\"Change in opening price over the years\")\n",
    "plt.grid()\n"
   ]
  },
  {
   "cell_type": "code",
   "execution_count": 12,
   "metadata": {
    "colab": {
     "base_uri": "https://localhost:8080/"
    },
    "id": "kEB4KAjwjWjx",
    "outputId": "305e27da-ccb7-46f1-a42a-0731381950b6"
   },
   "outputs": [
    {
     "data": {
      "text/plain": [
       "0       233.75\n",
       "1       233.25\n",
       "2       234.25\n",
       "3       236.10\n",
       "4       233.30\n",
       "         ...  \n",
       "2030    118.65\n",
       "2031    117.60\n",
       "2032    120.65\n",
       "2033    120.90\n",
       "2034    121.55\n",
       "Name: Close, Length: 2035, dtype: float64"
      ]
     },
     "execution_count": 12,
     "metadata": {},
     "output_type": "execute_result"
    }
   ],
   "source": [
    "df1=df.reset_index()['Close']\n",
    "df1"
   ]
  },
  {
   "cell_type": "code",
   "execution_count": 13,
   "metadata": {
    "colab": {
     "base_uri": "https://localhost:8080/",
     "height": 681
    },
    "id": "7V70boNMjZ6e",
    "outputId": "9909d0c1-47a4-49b8-91af-0dc92f1c73b6"
   },
   "outputs": [
    {
     "data": {
      "text/plain": [
       "<AxesSubplot:>"
      ]
     },
     "execution_count": 13,
     "metadata": {},
     "output_type": "execute_result"
    },
    {
     "data": {
      "image/png": "[encoded data removed]",
      "text/plain": [
       "<Figure size 864x432 with 2 Axes>"
      ]
     },
     "metadata": {
      "needs_background": "light"
     },
     "output_type": "display_data"
    }
   ],
   "source": [
    "plt.figure(figsize=(12,6))\n",
    "sns.heatmap(df.corr(),annot=True,cmap='BuPu')"
   ]
  },
  {
   "cell_type": "code",
   "execution_count": 14,
   "metadata": {
    "colab": {
     "base_uri": "https://localhost:8080/",
     "height": 459
    },
    "id": "s7o7X4NAjcyt",
    "outputId": "070ff6f0-c570-4110-913a-5d463330e591"
   },
   "outputs": [
    {
     "data": {
      "text/plain": [
       "<AxesSubplot:ylabel='Turnover (Lacs)'>"
      ]
     },
     "execution_count": 14,
     "metadata": {},
     "output_type": "execute_result"
    },
    {
     "data": {
      "image/png": "[encoded data removed]",
      "text/plain": [
       "<Figure size 792x360 with 2 Axes>"
      ]
     },
     "metadata": {
      "needs_background": "light"
     },
     "output_type": "display_data"
    }
   ],
   "source": [
    "plt.figure(figsize=(11,5))\n",
    "plt.subplot(1,2,1)\n",
    "sns.boxplot(data=df,y='Total Trade Quantity',color='green')\n",
    "plt.subplot(1,2,2)\n",
    "sns.boxplot(data=df,y='Turnover (Lacs)',color='red')"
   ]
  },
  {
   "cell_type": "code",
   "execution_count": 15,
   "metadata": {
    "colab": {
     "base_uri": "https://localhost:8080/",
     "height": 564
    },
    "id": "jYfCiQJfjfMn",
    "outputId": "d33124a6-4de1-432a-de18-6574b46582e2"
   },
   "outputs": [
    {
     "data": {
      "image/png": "[encoded data removed]",
      "text/plain": [
       "<Figure size 504x432 with 1 Axes>"
      ]
     },
     "metadata": {
      "needs_background": "light"
     },
     "output_type": "display_data"
    }
   ],
   "source": [
    "fig=plt.figure(figsize=(7,6))\n",
    "plt.scatter(df['Total Trade Quantity'],df['Turnover (Lacs)'], alpha=0.5, edgecolor='r', color='cyan')\n",
    "plt.xlabel(\"Trade Quantity (in 100000)\")\n",
    "plt.ylabel(\"Turnover (in lacs)\")\n",
    "plt.title(\" Selling Units Vs Turnover\")\n",
    "plt.show()\n"
   ]
  },
  {
   "cell_type": "code",
   "execution_count": 16,
   "metadata": {
    "colab": {
     "base_uri": "https://localhost:8080/",
     "height": 687
    },
    "id": "h_Kh6mKrjh8Z",
    "outputId": "8a8221d4-434d-421e-8977-ec761b7dede3"
   },
   "outputs": [
    {
     "data": {
      "text/html": [
       "<div>\n",
       "<style scoped>\n",
       "    .dataframe tbody tr th:only-of-type {\n",
       "        vertical-align: middle;\n",
       "    }\n",
       "\n",
       "    .dataframe tbody tr th {\n",
       "        vertical-align: top;\n",
       "    }\n",
       "\n",
       "    .dataframe thead th {\n",
       "        text-align: right;\n",
       "    }\n",
       "</style>\n",
       "<table border=\"1\" class=\"dataframe\">\n",
       "  <thead>\n",
       "    <tr style=\"text-align: right;\">\n",
       "      <th></th>\n",
       "      <th>Open</th>\n",
       "    </tr>\n",
       "  </thead>\n",
       "  <tbody>\n",
       "    <tr>\n",
       "      <th>0</th>\n",
       "      <td>234.05</td>\n",
       "    </tr>\n",
       "    <tr>\n",
       "      <th>1</th>\n",
       "      <td>234.55</td>\n",
       "    </tr>\n",
       "    <tr>\n",
       "      <th>2</th>\n",
       "      <td>240.00</td>\n",
       "    </tr>\n",
       "    <tr>\n",
       "      <th>3</th>\n",
       "      <td>233.30</td>\n",
       "    </tr>\n",
       "    <tr>\n",
       "      <th>4</th>\n",
       "      <td>233.55</td>\n",
       "    </tr>\n",
       "    <tr>\n",
       "      <th>...</th>\n",
       "      <td>...</td>\n",
       "    </tr>\n",
       "    <tr>\n",
       "      <th>2030</th>\n",
       "      <td>117.60</td>\n",
       "    </tr>\n",
       "    <tr>\n",
       "      <th>2031</th>\n",
       "      <td>120.10</td>\n",
       "    </tr>\n",
       "    <tr>\n",
       "      <th>2032</th>\n",
       "      <td>121.80</td>\n",
       "    </tr>\n",
       "    <tr>\n",
       "      <th>2033</th>\n",
       "      <td>120.30</td>\n",
       "    </tr>\n",
       "    <tr>\n",
       "      <th>2034</th>\n",
       "      <td>122.10</td>\n",
       "    </tr>\n",
       "  </tbody>\n",
       "</table>\n",
       "<p>2035 rows × 1 columns</p>\n",
       "</div>"
      ],
      "text/plain": [
       "        Open\n",
       "0     234.05\n",
       "1     234.55\n",
       "2     240.00\n",
       "3     233.30\n",
       "4     233.55\n",
       "...      ...\n",
       "2030  117.60\n",
       "2031  120.10\n",
       "2032  121.80\n",
       "2033  120.30\n",
       "2034  122.10\n",
       "\n",
       "[2035 rows x 1 columns]"
      ]
     },
     "execution_count": 16,
     "metadata": {},
     "output_type": "execute_result"
    }
   ],
   "source": [
    "training_set= df[['Open']]\n",
    "training_set=pd.DataFrame(training_set)\n",
    "training_set\n"
   ]
  },
  {
   "cell_type": "code",
   "execution_count": 17,
   "metadata": {
    "id": "9KPjTWMAjpWV"
   },
   "outputs": [],
   "source": [
    "scaler=MinMaxScaler(feature_range=(0,1))\n",
    "training_set_scaler=scaler.fit_transform(np.array(df1).reshape(-1,1))"
   ]
  },
  {
   "cell_type": "code",
   "execution_count": 18,
   "metadata": {
    "colab": {
     "base_uri": "https://localhost:8080/"
    },
    "id": "lTH8c4yQjsXF",
    "outputId": "a379a61e-6734-43dc-ec14-c9539a96b735"
   },
   "outputs": [
    {
     "data": {
      "text/plain": [
       "array([[0.62418301],\n",
       "       [0.62214052],\n",
       "       [0.62622549],\n",
       "       ...,\n",
       "       [0.1621732 ],\n",
       "       [0.16319444],\n",
       "       [0.16584967]])"
      ]
     },
     "execution_count": 18,
     "metadata": {},
     "output_type": "execute_result"
    }
   ],
   "source": [
    "training_set_scaler"
   ]
  },
  {
   "cell_type": "code",
   "execution_count": 19,
   "metadata": {
    "id": "nVnLOmVcjuNO"
   },
   "outputs": [],
   "source": [
    "train_size1= int(len(training_set_scaler)*0.65)\n",
    "test_size1=int(len(training_set_scaler))-train_size1\n",
    "train_data1,test_data1=training_set_scaler[0:train_size1,:],training_set_scaler[train_size1:len(df),:1]"
   ]
  },
  {
   "cell_type": "code",
   "execution_count": 20,
   "metadata": {
    "colab": {
     "base_uri": "https://localhost:8080/"
    },
    "id": "eofRU0S1jw5W",
    "outputId": "b76a2fb5-1d0a-4e5b-d964-9203107a3962"
   },
   "outputs": [
    {
     "data": {
      "text/plain": [
       "1322"
      ]
     },
     "execution_count": 20,
     "metadata": {},
     "output_type": "execute_result"
    }
   ],
   "source": [
    "train_size1\n"
   ]
  },
  {
   "cell_type": "code",
   "execution_count": 21,
   "metadata": {
    "id": "KS69dsnZjy2O"
   },
   "outputs": [],
   "source": [
    "def create_dataset(dataset,time_step=1):\n",
    "    dataX, dataY = [], []\n",
    "    for i in range(len(dataset)-time_step-1):\n",
    "        a = dataset[i:(i+time_step), 0]   ###i=0, 0,1,2,3-----99   100\n",
    "        dataX.append(a)\n",
    "        dataY.append(dataset[i + time_step, 0])\n",
    "    return np.array(dataX), np.array(dataY)"
   ]
  },
  {
   "cell_type": "code",
   "execution_count": 22,
   "metadata": {
    "id": "RF9OMGm4j1HY"
   },
   "outputs": [],
   "source": [
    "time_step=100\n",
    "x_train, y_train=create_dataset(train_data1, time_step)\n",
    "x_test, y_test= create_dataset(test_data1, time_step)"
   ]
  },
  {
   "cell_type": "code",
   "execution_count": 23,
   "metadata": {
    "colab": {
     "base_uri": "https://localhost:8080/"
    },
    "id": "OD393UAZj21W",
    "outputId": "027ed944-11e4-4b61-fd81-06e6c92f7789"
   },
   "outputs": [
    {
     "name": "stdout",
     "output_type": "stream",
     "text": [
      "(1221, 100) (1221,)\n"
     ]
    }
   ],
   "source": [
    "print(x_train.shape,y_train.shape)"
   ]
  },
  {
   "cell_type": "code",
   "execution_count": 24,
   "metadata": {
    "colab": {
     "base_uri": "https://localhost:8080/"
    },
    "id": "8ySAeBjJj46V",
    "outputId": "b670fe02-c167-424f-a405-56ccc81de91d"
   },
   "outputs": [
    {
     "data": {
      "text/plain": [
       "(612, 100)"
      ]
     },
     "execution_count": 24,
     "metadata": {},
     "output_type": "execute_result"
    }
   ],
   "source": [
    "x_test.shape\n"
   ]
  },
  {
   "cell_type": "code",
   "execution_count": 25,
   "metadata": {
    "colab": {
     "base_uri": "https://localhost:8080/"
    },
    "id": "yoh4nN3xj92D",
    "outputId": "b36c50c2-75e7-4d45-a1e9-972124b9d626"
   },
   "outputs": [
    {
     "data": {
      "text/plain": [
       "(612,)"
      ]
     },
     "execution_count": 25,
     "metadata": {},
     "output_type": "execute_result"
    }
   ],
   "source": [
    "y_test.shape"
   ]
  },
  {
   "cell_type": "code",
   "execution_count": 26,
   "metadata": {
    "id": "JC90ldpJkA8L"
   },
   "outputs": [],
   "source": [
    "x_train = x_train.reshape(x_train.shape[0],x_train.shape[1] , 1)\n",
    "x_test = x_test.reshape(x_test.shape[0],x_test.shape[1] , 1)\n"
   ]
  },
  {
   "cell_type": "code",
   "execution_count": 27,
   "metadata": {
    "id": "oc4CTsxmkDoD"
   },
   "outputs": [],
   "source": [
    "model = Sequential()\n",
    "model.add(LSTM(50, return_sequences=True, input_shape=(100,1)))\n",
    "model.add(LSTM(50, return_sequences=True, input_shape=(100,1)))\n",
    "model.add(LSTM(50))\n",
    "model.add(Dense(1))\n",
    "model.compile(loss='mean_squared_error', optimizer='adam', metrics='acc')"
   ]
  },
  {
   "cell_type": "code",
   "execution_count": 28,
   "metadata": {
    "colab": {
     "base_uri": "https://localhost:8080/"
    },
    "id": "dw8tfMYUkFzD",
    "outputId": "9bd07213-4692-48c6-b891-c597b8f22203"
   },
   "outputs": [
    {
     "name": "stdout",
     "output_type": "stream",
     "text": [
      "Model: \"sequential\"\n",
      "_________________________________________________________________\n",
      " Layer (type)                Output Shape              Param #   \n",
      "=================================================================\n",
      " lstm (LSTM)                 (None, 100, 50)           10400     \n",
      "                                                                 \n",
      " lstm_1 (LSTM)               (None, 100, 50)           20200     \n",
      "                                                                 \n",
      " lstm_2 (LSTM)               (None, 50)                20200     \n",
      "                                                                 \n",
      " dense (Dense)               (None, 1)                 51        \n",
      "                                                                 \n",
      "=================================================================\n",
      "Total params: 50,851\n",
      "Trainable params: 50,851\n",
      "Non-trainable params: 0\n",
      "_________________________________________________________________\n"
     ]
    }
   ],
   "source": [
    "model.summary()"
   ]
  },
  {
   "cell_type": "code",
   "execution_count": 30,
   "metadata": {
    "colab": {
     "base_uri": "https://localhost:8080/"
    },
    "id": "sPmerRHFkIab",
    "outputId": "15ccf0ac-5dbe-457a-8e65-a90779db9de9"
   },
   "outputs": [
    {
     "name": "stdout",
     "output_type": "stream",
     "text": [
      "Epoch 1/20\n",
      "20/20 [==============================] - 4s 204ms/step - loss: 8.8061e-04 - acc: 8.1900e-04 - val_loss: 7.9425e-04 - val_acc: 0.0016\n",
      "Epoch 2/20\n",
      "20/20 [==============================] - 5s 229ms/step - loss: 7.5769e-04 - acc: 8.1900e-04 - val_loss: 6.4832e-04 - val_acc: 0.0016\n",
      "Epoch 3/20\n",
      "20/20 [==============================] - 4s 214ms/step - loss: 7.2416e-04 - acc: 8.1900e-04 - val_loss: 7.2780e-04 - val_acc: 0.0016\n",
      "Epoch 4/20\n",
      "20/20 [==============================] - 4s 218ms/step - loss: 7.0434e-04 - acc: 8.1900e-04 - val_loss: 7.7422e-04 - val_acc: 0.0016\n",
      "Epoch 5/20\n",
      "20/20 [==============================] - 4s 199ms/step - loss: 6.8307e-04 - acc: 8.1900e-04 - val_loss: 8.9143e-04 - val_acc: 0.0016\n",
      "Epoch 6/20\n",
      "20/20 [==============================] - 4s 216ms/step - loss: 6.8723e-04 - acc: 8.1900e-04 - val_loss: 8.1659e-04 - val_acc: 0.0016\n",
      "Epoch 7/20\n",
      "20/20 [==============================] - 4s 210ms/step - loss: 7.4061e-04 - acc: 8.1900e-04 - val_loss: 6.3682e-04 - val_acc: 0.0016\n",
      "Epoch 8/20\n",
      "20/20 [==============================] - 4s 218ms/step - loss: 7.0646e-04 - acc: 8.1900e-04 - val_loss: 7.9044e-04 - val_acc: 0.0016\n",
      "Epoch 9/20\n",
      "20/20 [==============================] - 4s 211ms/step - loss: 7.2083e-04 - acc: 8.1900e-04 - val_loss: 8.4928e-04 - val_acc: 0.0016\n",
      "Epoch 10/20\n",
      "20/20 [==============================] - 4s 217ms/step - loss: 6.2982e-04 - acc: 8.1900e-04 - val_loss: 7.0457e-04 - val_acc: 0.0016\n",
      "Epoch 11/20\n",
      "20/20 [==============================] - 4s 212ms/step - loss: 6.7053e-04 - acc: 8.1900e-04 - val_loss: 7.7451e-04 - val_acc: 0.0016\n",
      "Epoch 12/20\n",
      "20/20 [==============================] - 4s 203ms/step - loss: 6.2319e-04 - acc: 8.1900e-04 - val_loss: 8.0255e-04 - val_acc: 0.0016\n",
      "Epoch 13/20\n",
      "20/20 [==============================] - 4s 209ms/step - loss: 5.9297e-04 - acc: 8.1900e-04 - val_loss: 7.3422e-04 - val_acc: 0.0016\n",
      "Epoch 14/20\n",
      "20/20 [==============================] - 4s 207ms/step - loss: 6.2232e-04 - acc: 8.1900e-04 - val_loss: 8.9441e-04 - val_acc: 0.0016\n",
      "Epoch 15/20\n",
      "20/20 [==============================] - 4s 215ms/step - loss: 6.2535e-04 - acc: 8.1900e-04 - val_loss: 6.2337e-04 - val_acc: 0.0016\n",
      "Epoch 16/20\n",
      "20/20 [==============================] - 4s 213ms/step - loss: 5.9048e-04 - acc: 8.1900e-04 - val_loss: 7.0897e-04 - val_acc: 0.0016\n",
      "Epoch 17/20\n",
      "20/20 [==============================] - 4s 209ms/step - loss: 5.6795e-04 - acc: 8.1900e-04 - val_loss: 7.1404e-04 - val_acc: 0.0016\n",
      "Epoch 18/20\n",
      "20/20 [==============================] - 4s 198ms/step - loss: 5.8149e-04 - acc: 8.1900e-04 - val_loss: 6.3764e-04 - val_acc: 0.0016\n",
      "Epoch 19/20\n",
      "20/20 [==============================] - 4s 206ms/step - loss: 8.0261e-04 - acc: 8.1900e-04 - val_loss: 6.0969e-04 - val_acc: 0.0016\n",
      "Epoch 20/20\n",
      "20/20 [==============================] - 4s 200ms/step - loss: 6.3019e-04 - acc: 8.1900e-04 - val_loss: 6.4754e-04 - val_acc: 0.0016\n"
     ]
    },
    {
     "data": {
      "text/plain": [
       "<keras.callbacks.History at 0x289c31c8af0>"
      ]
     },
     "execution_count": 30,
     "metadata": {},
     "output_type": "execute_result"
    }
   ],
   "source": [
    "model.fit(x_train, y_train, validation_data = (x_test, y_test), epochs = 20, batch_size = 64, verbose = 1)\n"
   ]
  },
  {
   "cell_type": "code",
   "execution_count": 31,
   "metadata": {
    "colab": {
     "base_uri": "https://localhost:8080/"
    },
    "id": "qKf3J5XUlsrV",
    "outputId": "4dec4e0a-7634-40d1-a665-f812cd682214"
   },
   "outputs": [
    {
     "name": "stdout",
     "output_type": "stream",
     "text": [
      "39/39 [==============================] - 3s 50ms/step\n",
      "20/20 [==============================] - 1s 45ms/step\n"
     ]
    }
   ],
   "source": [
    "train_predict1=model.predict(x_train)\n",
    "test_predict1=model.predict(x_test)\n",
    "#Transformback to original form\n",
    "train_predict1=scaler.inverse_transform(train_predict1)\n",
    "test_predict1=scaler.inverse_transform(test_predict1)"
   ]
  },
  {
   "cell_type": "code",
   "execution_count": 32,
   "metadata": {
    "colab": {
     "base_uri": "https://localhost:8080/"
    },
    "id": "mFWILXiFl5J3",
    "outputId": "9945bf03-4d4b-4b24-a91f-df91c7e517c7"
   },
   "outputs": [
    {
     "data": {
      "text/plain": [
       "165.7732489403719"
      ]
     },
     "execution_count": 32,
     "metadata": {},
     "output_type": "execute_result"
    }
   ],
   "source": [
    "math.sqrt(mean_squared_error(y_train,train_predict1))"
   ]
  },
  {
   "cell_type": "code",
   "execution_count": 33,
   "metadata": {
    "colab": {
     "base_uri": "https://localhost:8080/"
    },
    "id": "GNqiFhnEl7OX",
    "outputId": "a5818704-25a9-4562-9461-df550d9dd460"
   },
   "outputs": [
    {
     "data": {
      "text/plain": [
       "117.88527684312028"
      ]
     },
     "execution_count": 33,
     "metadata": {},
     "output_type": "execute_result"
    }
   ],
   "source": [
    "math.sqrt(mean_squared_error(y_test,test_predict1))"
   ]
  },
  {
   "cell_type": "code",
   "execution_count": 35,
   "metadata": {
    "colab": {
     "base_uri": "https://localhost:8080/",
     "height": 445
    },
    "id": "WtwJ0-jNl9WY",
    "outputId": "60a230a6-31ea-4064-bcec-5cd4a5e9cfb7"
   },
   "outputs": [
    {
     "data": {
      "image/png": "[encoded data removed]",
      "text/plain": [
       "<Figure size 720x360 with 1 Axes>"
      ]
     },
     "metadata": {
      "needs_background": "light"
     },
     "output_type": "display_data"
    }
   ],
   "source": [
    "### Plotting\n",
    "# shift train predictions for plotting\n",
    "look_back=100\n",
    "trainPredictPlot = np.empty_like(training_set_scaler)\n",
    "trainPredictPlot[:, :] = np.nan\n",
    "trainPredictPlot[look_back:len(train_predict1)+look_back, :] = train_predict1\n",
    "\n",
    "# shift test predictions for plotting\n",
    "testPredictPlot = np.empty_like(training_set_scaler)\n",
    "testPredictPlot[:, :] = np.nan\n",
    "testPredictPlot[len(train_predict1)+(look_back*2)+1:len(df1)-1, :] = test_predict1\n",
    "\n",
    "# plot baseline and predictions\n",
    "plt.figure(figsize=(10,5))\n",
    "plt.plot(scaler.inverse_transform(training_set_scaler))\n",
    "plt.plot(trainPredictPlot)\n",
    "plt.plot(testPredictPlot)\n",
    "plt.show()"
   ]
  }
 ],
 "metadata": {
  "colab": {
   "provenance": []
  },
  "kernelspec": {
   "display_name": "Python 3 (ipykernel)",
   "language": "python",
   "name": "python3"
  },
  "language_info": {
   "codemirror_mode": {
    "name": "ipython",
    "version": 3
   },
   "file_extension": ".py",
   "mimetype": "text/x-python",
   "name": "python",
   "nbconvert_exporter": "python",
   "pygments_lexer": "ipython3",
   "version": "3.9.12"
  }
 },
 "nbformat": 4,
 "nbformat_minor": 1
}
